{
 "cells": [
  {
   "cell_type": "markdown",
   "metadata": {},
   "source": [
    "# Little Lemon"
   ]
  },
  {
   "cell_type": "markdown",
   "metadata": {},
   "source": [
    "## Setup"
   ]
  },
  {
   "cell_type": "markdown",
   "metadata": {},
   "source": [
    "### Constants\n",
    "\n",
    "Be sure to use your own credentials!"
   ]
  },
  {
   "cell_type": "code",
   "execution_count": 1,
   "metadata": {},
   "outputs": [],
   "source": [
    "USER = \"root\"\n",
    "PASSWORD = \"spindrift\"\n",
    "HOST = \"127.0.0.1\"\n",
    "DB = \"LittleLemonDM\""
   ]
  },
  {
   "cell_type": "markdown",
   "metadata": {},
   "source": [
    "### Installs"
   ]
  },
  {
   "cell_type": "code",
   "execution_count": 2,
   "metadata": {},
   "outputs": [
    {
     "name": "stdout",
     "output_type": "stream",
     "text": [
      "Requirement already satisfied: mysql-connector-python in /Library/Frameworks/Python.framework/Versions/3.13/lib/python3.13/site-packages (9.1.0)\n",
      "\n",
      "\u001b[1m[\u001b[0m\u001b[34;49mnotice\u001b[0m\u001b[1;39;49m]\u001b[0m\u001b[39;49m A new release of pip is available: \u001b[0m\u001b[31;49m24.2\u001b[0m\u001b[39;49m -> \u001b[0m\u001b[32;49m24.3.1\u001b[0m\n",
      "\u001b[1m[\u001b[0m\u001b[34;49mnotice\u001b[0m\u001b[1;39;49m]\u001b[0m\u001b[39;49m To update, run: \u001b[0m\u001b[32;49mpip3 install --upgrade pip\u001b[0m\n",
      "Note: you may need to restart the kernel to use updated packages.\n"
     ]
    }
   ],
   "source": [
    "%pip install mysql-connector-python"
   ]
  },
  {
   "cell_type": "markdown",
   "metadata": {},
   "source": [
    "### Imports"
   ]
  },
  {
   "cell_type": "code",
   "execution_count": 3,
   "metadata": {},
   "outputs": [],
   "source": [
    "import mysql.connector as mysql"
   ]
  },
  {
   "cell_type": "markdown",
   "metadata": {},
   "source": [
    "### Connections"
   ]
  },
  {
   "cell_type": "markdown",
   "metadata": {},
   "source": [
    "#### Task 1"
   ]
  },
  {
   "cell_type": "code",
   "execution_count": 4,
   "metadata": {},
   "outputs": [],
   "source": [
    "connection = mysql.connect(\n",
    "    user=USER, \n",
    "    password=PASSWORD, \n",
    "    host=HOST, \n",
    "    db=DB\n",
    ")"
   ]
  },
  {
   "cell_type": "markdown",
   "metadata": {},
   "source": [
    "## Main Program"
   ]
  },
  {
   "cell_type": "markdown",
   "metadata": {},
   "source": [
    "#### Task 2"
   ]
  },
  {
   "cell_type": "code",
   "execution_count": 12,
   "metadata": {},
   "outputs": [
    {
     "name": "stdout",
     "output_type": "stream",
     "text": [
      "('bookings',)\n",
      "('customers',)\n",
      "('menu_items',)\n",
      "('menus',)\n",
      "('orders',)\n",
      "('orders_view',)\n"
     ]
    },
    {
     "data": {
      "text/plain": [
       "True"
      ]
     },
     "execution_count": 12,
     "metadata": {},
     "output_type": "execute_result"
    }
   ],
   "source": [
    "query = \"SHOW TABLES\"\n",
    "cursor = connection.cursor()\n",
    "cursor.execute(query)\n",
    "tables = cursor.fetchall()\n",
    "\n",
    "for table in tables:\n",
    "    print(table)\n",
    "\n",
    "cursor.close()"
   ]
  },
  {
   "cell_type": "markdown",
   "metadata": {},
   "source": [
    "#### Task 3"
   ]
  },
  {
   "cell_type": "code",
   "execution_count": 11,
   "metadata": {},
   "outputs": [
    {
     "name": "stdout",
     "output_type": "stream",
     "text": [
      "(Decimal('60.83'), 'Martin Sutton', '445-193-7128', 'tristique.ac.eleifend@protonmail.org')\n",
      "(Decimal('130.95'), 'Emma Walls', '896-544-4214', 'quisque.varius@hotmail.couk')\n",
      "(Decimal('117.53'), 'Baker Berry', '771-788-6346', 'mi.ac@icloud.edu')\n",
      "(Decimal('91.48'), 'Colin Thomas', '517-836-4331', 'lorem.ipsum@protonmail.edu')\n",
      "(Decimal('192.67'), 'Echo Keller', '298-585-3511', 'varius@aol.com')\n",
      "(Decimal('104.55'), 'Allistair Reynolds', '176-989-5980', 'vitae.orci@hotmail.edu')\n",
      "(Decimal('189.13'), 'Hasad Carrillo', '131-462-9799', 'amet.diam@hotmail.org')\n",
      "(Decimal('123.64'), 'Aspen Larsen', '265-544-4671', 'id.magna@icloud.com')\n",
      "(Decimal('187.38'), 'Norman Sparks', '497-000-8106', 'ultrices.a.auctor@hotmail.org')\n",
      "(Decimal('137.22'), 'Bruno Dodson', '853-416-6661', 'aenean@icloud.couk')\n",
      "(Decimal('131.27'), 'Sigourney Crawford', '511-520-1731', 'faucibus@google.edu')\n",
      "(Decimal('139.04'), 'Raja Callahan', '671-657-7442', 'turpis.in@protonmail.net')\n",
      "(Decimal('196.19'), 'MacKensie Nicholson', '766-064-1693', 'dignissim.tempor@hotmail.ca')\n",
      "(Decimal('180.84'), 'Britanni Finley', '602-216-7886', 'augue.eu.tellus@protonmail.net')\n",
      "(Decimal('109.75'), 'Madonna Joseph', '135-431-7229', 'ligula.elit@aol.ca')\n",
      "(Decimal('113.29'), 'Pandora Perry', '146-345-6442', 'amet.consectetuer@yahoo.couk')\n",
      "(Decimal('158.94'), 'Katelyn Knox', '205-297-4031', 'vestibulum.ut@google.com')\n",
      "(Decimal('192.16'), 'Tasha Kennedy', '754-688-8484', 'metus.aenean.sed@hotmail.edu')\n",
      "(Decimal('143.69'), 'Zane Kline', '394-913-0861', 'nec.mauris@aol.edu')\n",
      "(Decimal('113.99'), 'Stone Collier', '284-817-5448', 'urna.convallis@protonmail.net')\n",
      "(Decimal('138.95'), 'Tara Cameron', '531-415-1672', 'dui.cum.sociis@aol.com')\n",
      "(Decimal('156.05'), 'Baxter Boyer', '623-010-3031', 'pharetra.quisque@hotmail.couk')\n",
      "(Decimal('129.66'), 'Nash Short', '856-491-8219', 'consectetuer.euismod@protonmail.ca')\n",
      "(Decimal('151.44'), 'Griffith Pittman', '721-626-4354', 'sed.sem.egestas@yahoo.net')\n",
      "(Decimal('105.28'), 'Sheila Stephens', '835-463-6456', 'ipsum.suspendisse@aol.com')\n",
      "(Decimal('113.78'), 'Felicia Huffman', '125-131-4423', 'lobortis.quam@google.ca')\n",
      "(Decimal('116.20'), 'Hermione Benton', '567-506-3285', 'quis@icloud.org')\n",
      "(Decimal('188.52'), 'Herrod Underwood', '955-131-4935', 'magna.ut@aol.edu')\n",
      "(Decimal('122.63'), 'Zorita Hammond', '257-141-1156', 'cras@protonmail.com')\n",
      "(Decimal('187.16'), 'Kenyon Davenport', '556-164-7838', 'placerat.velit@hotmail.couk')\n",
      "(Decimal('185.69'), 'Rhea Mcguire', '244-601-3231', 'ipsum.leo@yahoo.couk')\n",
      "(Decimal('188.17'), 'Rachel Chandler', '727-708-8564', 'dictum.eu.eleifend@aol.couk')\n",
      "(Decimal('141.84'), 'Beau Hayes', '034-545-6213', 'justo.proin.non@outlook.org')\n",
      "(Decimal('124.38'), 'Quinn Lott', '614-503-1357', 'sit@aol.ca')\n",
      "(Decimal('126.29'), 'Britanni Finley', '602-216-7886', 'augue.eu.tellus@protonmail.net')\n",
      "(Decimal('175.70'), 'Allistair Reynolds', '176-989-5980', 'vitae.orci@hotmail.edu')\n",
      "(Decimal('68.20'), 'Emerald Frost', '195-237-2337', 'arcu.imperdiet@icloud.couk')\n",
      "(Decimal('131.27'), 'Hermione Benton', '567-506-3285', 'quis@icloud.org')\n",
      "(Decimal('182.71'), 'Benedict England', '412-676-6779', 'arcu.vestibulum@google.edu')\n",
      "(Decimal('103.82'), 'Charissa Cherry', '111-978-7030', 'mi.fringilla@protonmail.ca')\n",
      "(Decimal('154.91'), 'Ivor Vance', '625-332-5979', 'libero.proin@aol.couk')\n",
      "(Decimal('128.93'), 'Byron Berg', '554-451-5533', 'ac.mattis.ornare@yahoo.ca')\n",
      "(Decimal('167.00'), 'Zorita Hammond', '257-141-1156', 'cras@protonmail.com')\n",
      "(Decimal('174.29'), 'Robin Sims', '278-354-1303', 'elit.elit.fermentum@outlook.edu')\n",
      "(Decimal('95.01'), 'Larissa Patterson', '129-677-7733', 'in.nec@icloud.com')\n",
      "(Decimal('64.44'), 'Silas Zamora', '865-634-5227', 'scelerisque.lorem@yahoo.com')\n",
      "(Decimal('195.02'), 'MacKensie Nicholson', '766-064-1693', 'dignissim.tempor@hotmail.ca')\n",
      "(Decimal('187.38'), 'Abbot Gallagher', '759-037-8583', 'porttitor@protonmail.net')\n",
      "(Decimal('107.80'), 'Adrian Reyes', '557-344-5251', 'nonummy.fusce.fermentum@outlook.net')\n",
      "(Decimal('114.86'), 'Kenyon Davenport', '556-164-7838', 'placerat.velit@hotmail.couk')\n",
      "(Decimal('77.29'), 'Colin Thomas', '517-836-4331', 'lorem.ipsum@protonmail.edu')\n",
      "(Decimal('130.62'), 'Jared Hickman', '257-418-4172', 'nulla.facilisi.sed@yahoo.ca')\n",
      "(Decimal('88.29'), 'Nash Short', '856-491-8219', 'consectetuer.euismod@protonmail.ca')\n",
      "(Decimal('155.26'), 'Graiden Rush', '505-439-8125', 'nullam.velit.dui@protonmail.edu')\n",
      "(Decimal('72.62'), 'Unity Walls', '872-511-0317', 'sodales.nisi@yahoo.net')\n",
      "(Decimal('105.77'), 'Neil Meyer', '681-441-8186', 'enim.mauris@hotmail.com')\n",
      "(Decimal('135.97'), 'Pandora Madden', '044-879-8029', 'commodo@google.net')\n",
      "(Decimal('144.95'), 'Abdul Stokes', '813-512-3135', 'feugiat.metus.sit@hotmail.ca')\n",
      "(Decimal('152.97'), 'Neve Leach', '376-327-2310', 'elit.elit@outlook.couk')\n",
      "(Decimal('179.86'), 'Fulton Nieves', '605-538-7669', 'lobortis@protonmail.net')\n",
      "(Decimal('115.20'), 'Harlan Knapp', '587-482-7862', 'ultrices@hotmail.com')\n",
      "(Decimal('127.29'), 'Zane Kline', '394-913-0861', 'nec.mauris@aol.edu')\n",
      "(Decimal('84.34'), 'Sheila Gordon', '282-704-6139', 'dictum.ultricies@outlook.couk')\n",
      "(Decimal('152.59'), 'Pandora Madden', '044-879-8029', 'commodo@google.net')\n",
      "(Decimal('103.35'), 'Aaron Reeves', '314-865-2515', 'lobortis.nisi@outlook.ca')\n",
      "(Decimal('132.12'), 'Marny Montgomery', '176-198-8255', 'integer@protonmail.ca')\n",
      "(Decimal('136.81'), 'Bruno Dodson', '853-416-6661', 'aenean@icloud.couk')\n",
      "(Decimal('78.56'), 'Daniel Meyers', '950-717-5156', 'ac@icloud.org')\n",
      "(Decimal('77.23'), 'Ahmed Barr', '922-332-1337', 'nec@hotmail.edu')\n",
      "(Decimal('176.39'), 'Griffin Kent', '364-646-1462', 'sed.eu@aol.ca')\n",
      "(Decimal('97.60'), 'Branden Hayes', '524-311-2978', 'vitae.erat@google.net')\n",
      "(Decimal('87.54'), 'Mark York', '115-886-5438', 'semper@aol.couk')\n",
      "(Decimal('174.15'), 'Florence Dotson', '596-241-1476', 'duis.at@icloud.com')\n",
      "(Decimal('166.86'), 'Suki Walls', '241-728-8611', 'in@outlook.edu')\n",
      "(Decimal('165.44'), 'Hedy Russell', '666-398-7433', 'facilisis.lorem.tristique@google.org')\n",
      "(Decimal('164.78'), 'Sydney Gilmore', '253-897-1346', 'etiam.ligula@icloud.ca')\n",
      "(Decimal('177.21'), 'Britanni Stewart', '272-119-3744', 'metus@aol.couk')\n",
      "(Decimal('75.21'), 'MacKensie Nicholson', '766-064-1693', 'dignissim.tempor@hotmail.ca')\n",
      "(Decimal('199.86'), 'Guy Sweet', '382-230-2946', 'luctus.et@hotmail.couk')\n",
      "(Decimal('62.85'), 'Mohammad Vazquez', '972-032-8674', 'non@protonmail.couk')\n",
      "(Decimal('122.92'), 'Kamal Schwartz', '272-338-3249', 'ipsum.nunc@aol.couk')\n",
      "(Decimal('72.82'), 'Isabelle Meadows', '338-145-3763', 'scelerisque.neque.sed@outlook.ca')\n",
      "(Decimal('153.76'), 'Phelan Matthews', '972-867-2637', 'dolor.quisque@hotmail.org')\n",
      "(Decimal('192.82'), 'Beatrice Waters', '857-501-1725', 'ipsum.porta@hotmail.net')\n",
      "(Decimal('179.82'), 'Jacqueline Farrell', '295-523-1634', 'auctor@aol.edu')\n",
      "(Decimal('181.49'), 'Isabelle Meadows', '338-145-3763', 'scelerisque.neque.sed@outlook.ca')\n",
      "(Decimal('127.77'), 'Colby Jarvis', '262-561-9865', 'et@protonmail.org')\n",
      "(Decimal('183.95'), 'Hermione Benton', '567-506-3285', 'quis@icloud.org')\n",
      "(Decimal('154.44'), 'Austin Taylor', '215-149-4285', 'malesuada@aol.com')\n",
      "(Decimal('71.50'), 'Noah Alexander', '973-736-8351', 'congue.in.scelerisque@google.com')\n",
      "(Decimal('137.74'), 'Unity Walls', '872-511-0317', 'sodales.nisi@yahoo.net')\n",
      "(Decimal('112.13'), 'Jared Hickman', '257-418-4172', 'nulla.facilisi.sed@yahoo.ca')\n",
      "(Decimal('68.21'), 'Kristen Ortiz', '222-364-0282', 'sapien.imperdiet@hotmail.net')\n",
      "(Decimal('158.46'), 'Griffith Mckee', '168-361-8290', 'pellentesque.massa.lobortis@icloud.net')\n",
      "(Decimal('113.92'), 'Stone Collier', '284-817-5448', 'urna.convallis@protonmail.net')\n",
      "(Decimal('122.16'), 'Jack Madden', '487-857-3105', 'mollis.lectus@protonmail.ca')\n",
      "(Decimal('105.27'), 'Zeph Padilla', '128-154-5388', 'porttitor.vulputate@google.net')\n",
      "(Decimal('123.94'), 'Sonya Estes', '151-786-0667', 'aenean.euismod.mauris@protonmail.org')\n",
      "(Decimal('143.60'), 'Oren Finch', '521-407-8947', 'nunc.ut@icloud.org')\n",
      "(Decimal('149.14'), 'Griffin Frank', '812-538-5826', 'ornare@google.ca')\n",
      "(Decimal('63.45'), 'Jane Harrell', '775-877-5281', 'et@outlook.com')\n",
      "(Decimal('82.40'), 'Martin Sutton', '445-193-7128', 'tristique.ac.eleifend@protonmail.org')\n",
      "(Decimal('193.43'), 'Sydnee Mcguire', '387-640-2773', 'lacus.quisque@yahoo.org')\n",
      "(Decimal('103.79'), 'Keely Simon', '611-519-3880', 'nunc@protonmail.net')\n",
      "(Decimal('70.04'), 'Megan Hines', '682-589-6289', 'ipsum.suspendisse@hotmail.com')\n",
      "(Decimal('90.95'), 'Sigourney Crawford', '511-520-1731', 'faucibus@google.edu')\n",
      "(Decimal('86.65'), 'Gisela Shelton', '851-751-2219', 'ornare.facilisis.eget@google.couk')\n",
      "(Decimal('119.61'), 'Callum Ryan', '301-662-0055', 'mauris.eu@google.edu')\n",
      "(Decimal('149.97'), 'Audra Foley', '209-154-5877', 'scelerisque.neque.sed@outlook.ca')\n",
      "(Decimal('101.88'), 'Aaron Reeves', '314-865-2515', 'lobortis.nisi@outlook.ca')\n",
      "(Decimal('165.33'), 'Olympia Greene', '079-755-5364', 'sed.auctor.odio@yahoo.couk')\n",
      "(Decimal('65.58'), 'Simone Brewer', '576-861-3698', 'tempus.eu@icloud.couk')\n",
      "(Decimal('69.85'), 'Plato Roberts', '585-237-2323', 'cras.interdum@protonmail.ca')\n",
      "(Decimal('92.38'), 'Elvis Haynes', '122-675-4416', 'vitae.velit.egestas@outlook.net')\n",
      "(Decimal('123.08'), 'Kamal Schwartz', '272-338-3249', 'ipsum.nunc@aol.couk')\n",
      "(Decimal('136.44'), 'Olympia Greene', '079-755-5364', 'sed.auctor.odio@yahoo.couk')\n",
      "(Decimal('72.12'), 'Keefe Beach', '032-442-9932', 'non.quam@google.com')\n",
      "(Decimal('172.90'), 'Liberty Byers', '265-420-9515', 'sed@outlook.ca')\n",
      "(Decimal('105.82'), 'Hasad Carrillo', '131-462-9799', 'amet.diam@hotmail.org')\n",
      "(Decimal('68.42'), 'Eugenia Stafford', '866-891-1449', 'et.nunc@yahoo.com')\n",
      "(Decimal('131.92'), 'Aaron Reeves', '314-865-2515', 'lobortis.nisi@outlook.ca')\n",
      "(Decimal('103.43'), 'Felix Cunningham', '439-785-3305', 'nulla@protonmail.edu')\n",
      "(Decimal('199.49'), 'Colin Thomas', '517-836-4331', 'lorem.ipsum@protonmail.edu')\n",
      "(Decimal('156.31'), 'Ruth Sutton', '424-371-4794', 'et@hotmail.edu')\n",
      "(Decimal('176.40'), 'Jacqueline Farrell', '295-523-1634', 'auctor@aol.edu')\n",
      "(Decimal('194.79'), 'Grady Ray', '033-502-4366', 'orci.adipiscing@yahoo.org')\n",
      "(Decimal('72.21'), 'Mallory Fernandez', '613-570-1726', 'vel.convallis@hotmail.org')\n",
      "(Decimal('163.20'), 'Pandora Perry', '146-345-6442', 'amet.consectetuer@yahoo.couk')\n",
      "(Decimal('63.75'), 'Jared Hickman', '257-418-4172', 'nulla.facilisi.sed@yahoo.ca')\n",
      "(Decimal('89.99'), 'Simone Brewer', '576-861-3698', 'tempus.eu@icloud.couk')\n",
      "(Decimal('102.76'), 'Jescie Wilson', '677-542-4949', 'sed.id@google.com')\n",
      "(Decimal('79.50'), 'Kessie Ball', '564-767-4188', 'enim@protonmail.net')\n",
      "(Decimal('197.91'), 'Sheila Gordon', '282-704-6139', 'dictum.ultricies@outlook.couk')\n",
      "(Decimal('63.26'), 'Rachel Chandler', '727-708-8564', 'dictum.eu.eleifend@aol.couk')\n",
      "(Decimal('144.95'), 'Davis Donovan', '374-255-4794', 'sapien@google.couk')\n",
      "(Decimal('72.63'), 'Unity Walls', '872-511-0317', 'sodales.nisi@yahoo.net')\n",
      "(Decimal('86.69'), 'Emma Walls', '896-544-4214', 'quisque.varius@hotmail.couk')\n",
      "(Decimal('183.59'), 'Byron Berg', '554-451-5533', 'ac.mattis.ornare@yahoo.ca')\n",
      "(Decimal('138.70'), 'Cameron Nolan', '113-074-3165', 'quis.arcu@yahoo.net')\n",
      "(Decimal('104.88'), 'Abbot Gallagher', '759-037-8583', 'porttitor@protonmail.net')\n",
      "(Decimal('61.43'), 'Walker Gillespie', '644-216-0244', 'porttitor.interdum@yahoo.net')\n",
      "(Decimal('97.79'), 'Hiram Noel', '722-780-9380', 'nulla@aol.couk')\n",
      "(Decimal('150.03'), 'Brielle Juarez', '538-826-3751', 'et.netus@aol.com')\n",
      "(Decimal('103.27'), 'Graiden Rush', '505-439-8125', 'nullam.velit.dui@protonmail.edu')\n",
      "(Decimal('70.18'), 'Daphne Stephens', '563-072-8450', 'eget.nisi@icloud.ca')\n",
      "(Decimal('169.07'), 'Felicia Huffman', '125-131-4423', 'lobortis.quam@google.ca')\n",
      "(Decimal('68.24'), 'Ishmael Mcfarland', '141-255-4110', 'iaculis@icloud.net')\n"
     ]
    },
    {
     "data": {
      "text/plain": [
       "True"
      ]
     },
     "execution_count": 11,
     "metadata": {},
     "output_type": "execute_result"
    }
   ],
   "source": [
    "total_cost_query = \"\"\"\n",
    "SELECT \n",
    "    o.total_cost,\n",
    "    c.full_name,\n",
    "    c.contact_number,\n",
    "    c.email\n",
    "FROM orders o\n",
    "INNER JOIN customers c USING (customer_id)\n",
    "WHERE o.total_cost > 60\n",
    "\"\"\"\n",
    "t3_cursor = connection.cursor()\n",
    "t3_cursor.execute(total_cost_query)\n",
    "customers = t3_cursor.fetchall()\n",
    "\n",
    "for customer in customers:\n",
    "    print(customer)\n",
    "\n",
    "t3_cursor.close()"
   ]
  },
  {
   "cell_type": "code",
   "execution_count": null,
   "metadata": {},
   "outputs": [],
   "source": []
  }
 ],
 "metadata": {
  "kernelspec": {
   "display_name": "Python 3",
   "language": "python",
   "name": "python3"
  },
  "language_info": {
   "codemirror_mode": {
    "name": "ipython",
    "version": 3
   },
   "file_extension": ".py",
   "mimetype": "text/x-python",
   "name": "python",
   "nbconvert_exporter": "python",
   "pygments_lexer": "ipython3",
   "version": "3.13.0"
  }
 },
 "nbformat": 4,
 "nbformat_minor": 2
}
